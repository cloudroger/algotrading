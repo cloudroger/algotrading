{
 "cells": [
  {
   "cell_type": "code",
   "execution_count": 1,
   "metadata": {},
   "outputs": [],
   "source": [
    "#Thesis for this strategy: Whenever there is significant price movement without the expected increase in volume...\n",
    "##...the market was not efficient in the move and mean reversion is likely.\n",
    "\n",
    "#Strategy flow: Conditioned on trend of long MA; Enter long position whenever price delta / volume delta surpasses defined \n#significance level... \n",
    "##...set equal TP and SL targets."
   ]
  },
  {
   "cell_type": "code",
   "execution_count": 2,
   "metadata": {},
   "outputs": [],
   "source": [
    "import pandas as pd\n",
    "from datetime import datetime\n",
    "from matplotlib import pyplot as plt\n",
    "import numpy as np"
   ]
  },
  {
   "cell_type": "code",
   "execution_count": 3,
   "metadata": {},
   "outputs": [],
   "source": [
    "#Variable Hub\n",
    "file = r\"C:\\Users\\roger\\PycharmProjects\\algotrading\\self_data\\btcusd.csv\"\n",
    "#Expected Columns:\n",
    "#time  open  close  high  low  volume\n",
    "time_scale = 60\n",
    "ma = 1000\n",
    "volume_ma = 10\n",
    "price_volume_dt_ratio = 8\n",
    "ratio_ma_val = 50\n",
    "sl_delta = .04\n",
    "tp_delta = .04"
   ]
  },
  {
   "cell_type": "code",
   "execution_count": 4,
   "metadata": {},
   "outputs": [],
   "source": [
    "#getting data from csv\n",
    "granulated_data = {}\n",
    "granulated_df = pd.read_csv(file)\n",
    "granulated_data['time'] = [datetime.fromtimestamp(x/1000) for x in granulated_df['time']]\n",
    "granulated_data['high'] = [x for x in granulated_df['high']]\n",
    "granulated_data['low'] = [x for x in granulated_df['low']]\n",
    "granulated_data['open'] = [x for x in granulated_df['open']]"
   ]
  },
  {
   "cell_type": "code",
   "execution_count": 5,
   "metadata": {},
   "outputs": [],
   "source": [
    "#Function assumes data is in minutes and returns dict with user defined scale\n",
    "def return_df(file, time_scale):\n",
    "    original_data = pd.read_csv(file)\n",
    "    new_data = {}\n",
    "    new_data['time'] = [datetime.fromtimestamp(x/1000) for x in original_data['time'][::time_scale]]\n",
    "    new_data['open'] = [x for x in original_data['open'][::time_scale]]\n",
    "    new_data['volume'] = []\n",
    "    new_data['volume_ma'] = []\n",
    "    new_data['high'] = []\n",
    "    new_data['low'] = []\n",
    "    for i, volume in enumerate(original_data['volume'][::time_scale]):\n",
    "        index = i * time_scale\n",
    "        if i == 0:\n",
    "            new_data['volume'].append(volume)\n",
    "        else:\n",
    "            new_data['volume'].append(sum(original_data['volume'][index-time_scale+1:index]))\n",
    "    for i, vol in enumerate(new_data['volume']):\n",
    "        if i <= volume_ma:\n",
    "            new_data['volume_ma'].append(None)\n",
    "        else:\n",
    "            moving_average = sum(new_data['volume'][i-volume_ma-1:i]) / len(new_data['volume'][i-volume_ma-1:i])\n",
    "            new_data['volume_ma'].append(moving_average)\n",
    "    for i, high in enumerate(original_data['high'][::time_scale]):\n",
    "        index = i * time_scale\n",
    "        if i == 0:\n",
    "            new_data['high'].append(high)\n",
    "        else:\n",
    "            new_data['high'].append(max(original_data['high'][index-time_scale+1:index]))\n",
    "    for i, high in enumerate(original_data['low'][::time_scale]):\n",
    "        index = i * time_scale\n",
    "        if i == 0:\n",
    "            new_data['low'].append(high)\n",
    "        else:\n",
    "            new_data['low'].append(min(original_data['low'][index-time_scale+1:index]))\n",
    "    return new_data\n",
    "\n",
    "#Function takes in dictionary and turns it out with another key list for the ma at that position and a second added key list for the marginal ma\n",
    "def add_ma(dict, ma):\n",
    "    dict['ma'] = []\n",
    "    dict['ma_change'] = []\n",
    "    for i, price in enumerate(dict['open']):\n",
    "        if i <= ma:\n",
    "            dict['ma'].append(None)\n",
    "            dict['ma_change'].append(None)\n",
    "        else:\n",
    "            moving_average = sum(dict['open'][i-ma-1:i]) / len(dict['open'][i-ma-1:i])\n",
    "            dict['ma'].append(moving_average)\n",
    "            if not dict['ma'][i-1]:\n",
    "                dict['ma_change'].append(None)\n",
    "            elif dict['ma'][i] > dict['ma'][i-1]:\n",
    "                dict['ma_change'].append(1)\n",
    "            elif dict['ma'][i] < dict['ma'][i-1]:\n",
    "                dict['ma_change'].append(-1)\n",
    "            else:\n",
    "                dict['ma_change'].append(0)\n",
    "    return dict"
   ]
  },
  {
   "cell_type": "code",
   "execution_count": 6,
   "metadata": {},
   "outputs": [],
   "source": [
    "new_data = return_df(file, time_scale)\n",
    "new_data = add_ma(new_data, ma)\n",
    "new_data['trade_journal'] = {}\n",
    "new_data['trade_journal']['long'] = [[],[]]\n",
    "new_data['trade_journal']['long_tp'] = [[],[]]\n",
    "new_data['trade_journal']['long_sl'] = [[],[]]\n",
    "new_data['trade_journal']['short'] = [[],[]]\n",
    "new_data['trade_journal']['short_tp'] = [[],[]]\n",
    "new_data['trade_journal']['short_sl'] = [[],[]]\n",
    "new_data['trade_journal']['outcome'] = []\n",
    "pricel = []\n",
    "volumel = []\n",
    "ratiol = []\n",
    "volume_entry = []"
   ]
  },
  {
   "cell_type": "code",
   "execution_count": 7,
   "metadata": {},
   "outputs": [],
   "source": [
    "#Determining when volume vs price movement conditions allow entry\n",
    "for i in range(volume_ma+1):\n",
    "    volume_entry.append(None)\n",
    "for i in range(ratio_ma_val+1):\n",
    "    volume_entry.append(None)  \n",
    "for i, price in enumerate(new_data['open'][volume_ma+1:-1]):\n",
    "        if new_data['volume'][i] and new_data['volume_ma'][i]:\n",
    "            previous_price = new_data['open'][i-1]\n",
    "            price_delta = abs(float(price) - float(previous_price)) / float(previous_price)\n",
    "            volume_delta = float(new_data['volume'][i]) / float(new_data['volume_ma'][i])\n",
    "            if len(ratiol) >= ratio_ma_val+1:\n",
    "                ratio_ma = sum(ratiol[ratio_ma_val:]) / len(ratiol[ratio_ma_val:])\n",
    "                if ((price_delta / volume_delta) / price_volume_dt_ratio) > ratio_ma:\n",
    "                    volume_entry.append(price)\n",
    "                else:\n",
    "                    volume_entry.append(None)\n",
    "            ratiol.append(price_delta / volume_delta)\n",
    "            pricel.append(price_delta)\n",
    "            volumel.append(volume_delta)\n",
    "        else:\n",
    "            volume_entry.append(None)\n",
    "volume_entry.append(None)\n",
    "new_data['volume_entries'] = volume_entry\n",
    "volume_long_entry = []\n",
    "volume_short_entry = []\n",
    "in_trade = False\n",
    "for i, time in enumerate(new_data['time']):\n",
    "    if not new_data['volume_entries'][i]:\n",
    "        volume_long_entry.append(None)\n",
    "        volume_short_entry.append(None)\n",
    "    elif (new_data['open'][i] < new_data['open'][i-1]):\n",
    "        volume_long_entry.append(new_data['volume_entries'][i])\n",
    "        volume_short_entry.append(None)\n",
    "    elif (new_data['open'][i] > new_data['open'][i-1]):\n",
    "        volume_short_entry.append(new_data['volume_entries'][i])\n",
    "        volume_long_entry.append(None)\n",
    "    else:\n",
    "        volume_long_entry.append(None)\n",
    "        volume_short_entry.append(None)"
   ]
  },
  {
   "cell_type": "code",
   "execution_count": 8,
   "metadata": {},
   "outputs": [],
   "source": [
    "#Iterating through entries to calculate outcomes\n",
    "outcome_list = []\n",
    "for i, buy in enumerate(volume_long_entry):\n",
    "    if buy:\n",
    "        buy_time = new_data['time'][i]\n",
    "        for inte, orig_time in enumerate(granulated_data['time']):\n",
    "            if orig_time == buy_time:\n",
    "                index_start = inte + 1\n",
    "                break\n",
    "        for position in range(index_start, len(granulated_data['time'])):\n",
    "            low = granulated_data['low'][position]\n",
    "            high = granulated_data['high'][position]\n",
    "            delta_high = (float(high) - float(buy)) / float(buy)\n",
    "            delta_low = (float(low) - float(buy)) / float(buy)\n",
    "            if delta_high >= tp_delta:\n",
    "                outcome_list.append(delta_high)\n",
    "#                 print('Winner ' + str(granulated_data['time'][position]))\n",
    "#                 print(delta_high)\n",
    "#                 print('\\n')\n",
    "                break\n",
    "            if delta_low <= sl_delta:\n",
    "                outcome_list.append(delta_low)\n",
    "#                 print(delta_low)\n",
    "#                 print('Loser ' + str(granulated_data['time'][position]))\n",
    "#                 print('\\n')\n",
    "                break"
   ]
  },
  {
   "cell_type": "code",
   "execution_count": 9,
   "metadata": {},
   "outputs": [
    {
     "name": "stdout",
     "output_type": "stream",
     "text": [
      "Highest HPR: 0.13037890082772102\n",
      "Worst Drawdown: -0.03807950482005809\n",
      "Mean: -0.0005015194623144925\n"
     ]
    }
   ],
   "source": [
    "#removing edge case outlier\n",
    "del outcome_list[0]\n",
    "best = max(outcome_list)\n",
    "worst = min(outcome_list)\n",
    "mean = np.mean(outcome_list)\n",
    "print('Highest HPR:', best)\n",
    "print('Worst Drawdown:', worst)\n",
    "print('Mean:', mean)"
   ]
  },
  {
   "cell_type": "code",
   "execution_count": 10,
   "metadata": {},
   "outputs": [],
   "source": [
    "#Performed extremely poorly (with current params)\n",
    "#Problem is that the run time for one set of params is lengthy, so it is difficult to create a grid"
   ]
  },
  {
   "cell_type": "code",
   "execution_count": 11,
   "metadata": {},
   "outputs": [
    {
     "data": {
      "image/png": "[encoded data removed]",
      "text/plain": [
       "<Figure size 576x396 with 2 Axes>"
      ]
     },
     "metadata": {},
     "output_type": "display_data"
    }
   ],
   "source": [
    "plt.style.use('seaborn')\n",
    "top = plt.subplot2grid((4,4), (0, 0), rowspan=3, colspan=4)\n",
    "top.plot(new_data['time'], new_data['open'], linestyle = 'solid', linewidth= .75)\n",
    "top.plot(new_data['time'], new_data['ma'], linestyle = 'solid', linewidth= .5)\n",
    "top.plot(new_data['time'], volume_long_entry, '^', label='Long', markersize=5, color='g')\n",
    "top.plot(new_data['time'], volume_short_entry, 'v', label='Short', markersize=4, color='r')\n",
    "top.plot()\n",
    "plt.title('Price/MA')\n",
    "plt.legend()\n",
    "plt.ylabel('Opening Price')\n",
    "plt.xlabel('Date')\n",
    "plt.yscale('log')\n",
    "\n",
    "bottom = plt.subplot2grid((4,4), (3,0), rowspan=1, colspan=4)\n",
    "bottom.bar(new_data['time'], new_data['volume'], color='k')\n",
    "plt.title('Volume')\n",
    "plt.ylabel('Volume')\n",
    "plt.xlabel('Date')\n",
    "\n",
    "plt.tight_layout()\n",
    "plt.show()\n"
   ]
  }
 ],
 "metadata": {
  "kernelspec": {
   "display_name": "Python 3",
   "language": "python",
   "name": "python3"
  },
  "language_info": {
   "codemirror_mode": {
    "name": "ipython",
    "version": 3
   },
   "file_extension": ".py",
   "mimetype": "text/x-python",
   "name": "python",
   "nbconvert_exporter": "python",
   "pygments_lexer": "ipython3",
   "version": "3.8.5"
  }
 },
 "nbformat": 4,
 "nbformat_minor": 4
}
