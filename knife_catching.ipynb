{
 "cells": [
  {
   "cell_type": "code",
   "execution_count": 1,
   "metadata": {},
   "outputs": [],
   "source": [
    "import csv\n",
    "import matplotlib.pyplot as plt\n",
    "import numpy as np"
   ]
  },
  {
   "cell_type": "code",
   "execution_count": 2,
   "metadata": {},
   "outputs": [],
   "source": [
    "##Inputs:\n",
    "#path\n",
    "filename = r\"C:\\Users\\roger\\PycharmProjects\\algotrading\\self_data\\btcusd.csv\"\n",
    "#Expected Columns:\n",
    "#time  open  close  high  low  volume\n",
    "\n",
    "##Val Inputs:\n",
    "time_stops = [100]\n",
    "take_profits = [.02]\n",
    "short_mas = [50]\n",
    "long_mas = [500]\n",
    "##Optional: Test grid using arrays below. Params are hard-coded for this run.\n",
    "#time_stops = np.arange(100, 1000, 200)\n",
    "#take_profits = np.arange(.01, .1, .02)\n",
    "#short_mas = np.arange(20, 60, 8)\n",
    "#long_mas = np.arange(100, 1000, 200)"
   ]
  },
  {
   "cell_type": "code",
   "execution_count": 3,
   "metadata": {},
   "outputs": [],
   "source": [
    "price_dict = {}\n",
    "id_counter = 1\n",
    "trade_log = []\n",
    "date_log = []\n",
    "price_outcomes = []\n",
    "trade_counter = 0"
   ]
  },
  {
   "cell_type": "code",
   "execution_count": 4,
   "metadata": {},
   "outputs": [],
   "source": [
    "with open(filename, 'r+', encoding= 'utf-8') as file:\n",
    "    reader = csv.reader(file)\n",
    "    for row in reader:\n",
    "        price_dict[id_counter] = row\n",
    "        id_counter += 1\n",
    "original_dict = price_dict"
   ]
  },
  {
   "cell_type": "code",
   "execution_count": 5,
   "metadata": {},
   "outputs": [],
   "source": [
    "def full_func(time_stop, take_profit, short_ma, long_ma):\n",
    "    price_dict = original_dict\n",
    "    open_price_list = [float(x[1]) for x in list(price_dict.values())[1:]]\n",
    "    first_pass = False\n",
    "    velocity_ratio_list = []\n",
    "    for key in list(price_dict.keys())[long_ma + 3:]:\n",
    "        array = open_price_list[key - 2 - long_ma:key - 2]\n",
    "        ma = sum(array) / len(array)\n",
    "        price_dict[key].append(ma)\n",
    "        if first_pass:\n",
    "            velocity = ma / price_dict[key - 1][6]\n",
    "            price_dict[key].append(velocity)\n",
    "            velocity_ratio_list.append(velocity)\n",
    "        first_pass = True\n",
    "    for key in list(price_dict.keys())[short_ma + 3:]:\n",
    "        array = open_price_list[key - 2 - short_ma:key - 2]\n",
    "        ma = sum(array) / len(array)\n",
    "        price_dict[key].append(ma)\n",
    "    try:\n",
    "        del price_dict[1]\n",
    "    except:\n",
    "        pass\n",
    "    \n",
    "    #ma_velocity grid is hard coded to a single val to prevent lengthy run time. Uncomment second line to iter through grid.\n",
    "    ma_velocity_grid = [1.0001301155064284]\n",
    "    #ma_velocity_grid = np.arange(1.00, max(velocity_ratio_list), (max(velocity_ratio_list) - 1.00) / 10)\n",
    "    for ma_velocity in ma_velocity_grid:\n",
    "        trade_outcomes = []\n",
    "        counter = 0\n",
    "        for key in list(price_dict.keys())[long_ma + 4:]:\n",
    "            velocity_pass = False\n",
    "            if price_dict[key][7] > ma_velocity:\n",
    "                velocity_pass = True\n",
    "            if not velocity_pass:\n",
    "                continue\n",
    "            if float(price_dict[key-1][1]) > price_dict[key-1][8] and float(price_dict[key][1]) < price_dict[key][8]:\n",
    "                buy_price = float(price_dict[key][1])\n",
    "                for keykey in list(price_dict.keys())[key+1:]:\n",
    "                    potential_outcome = (float(price_dict[keykey][1]) - buy_price) / buy_price\n",
    "                    tick_delta = keykey - key\n",
    "                    if potential_outcome >= take_profit or tick_delta >= time_stop:\n",
    "                        sell_price = float(price_dict[keykey][1])\n",
    "                        price_outcomes.append(sell_price)\n",
    "                        outcome = (sell_price - buy_price) / buy_price\n",
    "                        trade_outcomes.append(outcome)\n",
    "                        break\n",
    "        return trade_outcomes, price_outcomes\n",
    "##Uncomment below when using grid to view performance summary per each iter.\n",
    "#         if len(trade_outcomes) > 0:\n",
    "#             average = (sum(trade_outcomes) / len(trade_outcomes))\n",
    "#             performance = [average, len(trade_outcomes), time_stop, take_profit, short_ma, long_ma, ma_velocity]\n",
    "#             print(performance)\n",
    "#             try:\n",
    "#                 average_positive = sum([x for x in trade_outcomes if x > 0]) / len([x for x in trade_outcomes if x > 0])\n",
    "#                 average_negative = sum([x for x in trade_outcomes if x < 0]) / len([x for x in trade_outcomes if x < 0])\n",
    "#                 print('Average Gain: ' + str(average_positive))\n",
    "#                 print('Average Loss: ' + str(average_negative))\n",
    "#             except:\n",
    "#                 pass"
   ]
  },
  {
   "cell_type": "code",
   "execution_count": 6,
   "metadata": {},
   "outputs": [],
   "source": [
    "for time_stop in time_stops:\n",
    "    for take_profit in take_profits:\n",
    "        for short_ma in short_mas:\n",
    "            for long_ma in long_mas:\n",
    "                trade_journal, price_journal = full_func(time_stop, take_profit, short_ma, long_ma)"
   ]
  },
  {
   "cell_type": "code",
   "execution_count": 7,
   "metadata": {},
   "outputs": [
    {
     "name": "stdout",
     "output_type": "stream",
     "text": [
      "Highest HPR: 0.2684185114181414\n",
      "Worst Drawdown: -0.3122393083554833\n",
      "Mean: 0.003969516143882302\n"
     ]
    }
   ],
   "source": [
    "best = max(trade_journal)\n",
    "worst = min(trade_journal)\n",
    "mean = np.mean(trade_journal)\n",
    "print('Highest HPR:', best)\n",
    "print('Worst Drawdown:', worst)\n",
    "print('Mean:', mean)"
   ]
  },
  {
   "cell_type": "code",
   "execution_count": 8,
   "metadata": {},
   "outputs": [
    {
     "data": {
      "image/png": "[encoded data removed]",
      "text/plain": [
       "<Figure size 576x396 with 1 Axes>"
      ]
     },
     "metadata": {},
     "output_type": "display_data"
    }
   ],
   "source": [
    "starting_equity = float(price_dict[2][1])\n",
    "equity = starting_equity\n",
    "comission_basis = 0\n",
    "equity_journal = []\n",
    "for trade in trade_journal:\n",
    "    effect = trade + 1\n",
    "    equity = equity * (effect-comission_basis)\n",
    "    equity_journal.append(equity)\n",
    "plt.style.use('seaborn')\n",
    "plt.plot(equity_journal, linestyle = 'solid', linewidth= 1, color='g')\n",
    "plt.yscale('log')\n",
    "plt.plot(price_journal, linestyle = 'solid', linewidth= 1, color='b')\n",
    "plt.yscale('log')\n",
    "plt.show()\n",
    "#Showing equity curve (green) vs asset price (blue)"
   ]
  },
  {
   "cell_type": "code",
   "execution_count": 9,
   "metadata": {},
   "outputs": [
    {
     "data": {
      "image/png": "[encoded data removed]",
      "text/plain": [
       "<Figure size 576x396 with 1 Axes>"
      ]
     },
     "metadata": {},
     "output_type": "display_data"
    }
   ],
   "source": [
    "#Showing distribution of HPRs\n",
    "plt.hist(trade_journal, bins=150)\n",
    "plt.xscale('symlog')\n",
    "plt.yscale('log')\n",
    "plt.show()"
   ]
  }
 ],
 "metadata": {
  "kernelspec": {
   "display_name": "Python 3",
   "language": "python",
   "name": "python3"
  },
  "language_info": {
   "codemirror_mode": {
    "name": "ipython",
    "version": 3
   },
   "file_extension": ".py",
   "mimetype": "text/x-python",
   "name": "python",
   "nbconvert_exporter": "python",
   "pygments_lexer": "ipython3",
   "version": "3.8.5"
  }
 },
 "nbformat": 4,
 "nbformat_minor": 4
}
